{
 "cells": [
  {
   "cell_type": "markdown",
   "metadata": {},
   "source": [
    "## SET"
   ]
  },
  {
   "cell_type": "raw",
   "metadata": {},
   "source": [
    "set is enclosed with curly bracket.\n",
    "Unordered\n",
    "Unindexed >> There is no use of indexing or slicing in set\n",
    "Duplicates are not allowed.\n",
    "Mutable -- \n",
    "Empty set is shown as set()\n",
    "int, float, string, tuple >> These data types are allowed inside set  # immutable data type\n",
    "list, dict, set >> These are not allowed inside set     # mutable data type"
   ]
  },
  {
   "cell_type": "code",
   "execution_count": null,
   "metadata": {},
   "outputs": [],
   "source": [
    "list1 = [\"python\",\"data\",89]\n",
    "list1[1]"
   ]
  },
  {
   "cell_type": "code",
   "execution_count": null,
   "metadata": {},
   "outputs": [],
   "source": [
    "set1= {\"python\",\"data\",89}\n",
    "set1     # Unordered"
   ]
  },
  {
   "cell_type": "code",
   "execution_count": null,
   "metadata": {},
   "outputs": [],
   "source": [
    "#list and acessing the element of list \n",
    "list1[1]"
   ]
  },
  {
   "cell_type": "code",
   "execution_count": null,
   "metadata": {
    "scrolled": true
   },
   "outputs": [],
   "source": [
    "# set and acessing the set  \n",
    "set1[1]"
   ]
  },
  {
   "cell_type": "code",
   "execution_count": null,
   "metadata": {},
   "outputs": [],
   "source": [
    "# syntax to show the empty set \n",
    "set1 = set()\n",
    "type(set1)"
   ]
  },
  {
   "cell_type": "code",
   "execution_count": null,
   "metadata": {},
   "outputs": [],
   "source": [
    "set2 = {}\n",
    "type(set2)"
   ]
  },
  {
   "cell_type": "code",
   "execution_count": null,
   "metadata": {},
   "outputs": [],
   "source": [
    "# How to craete a dict\n",
    "dict1 = {\"a\":1,\"b\":3,\"c\":6}\n",
    "dict1"
   ]
  },
  {
   "cell_type": "code",
   "execution_count": null,
   "metadata": {},
   "outputs": [],
   "source": [
    "set1 = {1,2,3,2.3,\"python\",(1,3,5)}   # immutable \n",
    "set1"
   ]
  },
  {
   "cell_type": "code",
   "execution_count": null,
   "metadata": {
    "scrolled": false
   },
   "outputs": [],
   "source": [
    "set2 = {1,2,3,2.3,\"python\",(1,3,5),{\"a\":5}}   # dict mutable"
   ]
  },
  {
   "cell_type": "code",
   "execution_count": null,
   "metadata": {
    "scrolled": true
   },
   "outputs": [],
   "source": [
    "set1 = {1,2,3,2.3,\"python\",[1,3,5]}   # list mutable \n",
    "set1"
   ]
  },
  {
   "cell_type": "code",
   "execution_count": null,
   "metadata": {},
   "outputs": [],
   "source": [
    "set1 = {1,2,3,2.3,\"python\",{1,3,5}}   # set mutable \n",
    "set1"
   ]
  },
  {
   "cell_type": "code",
   "execution_count": null,
   "metadata": {},
   "outputs": [],
   "source": [
    "#set not allow dulicates \n",
    "list1 = [1,3,4,1,1,4,6,3]\n",
    "print(len(list1))\n",
    "set1 = {1,3,4,1,1,4,6,3}\n",
    "print(len(set1))\n",
    "print(set1)"
   ]
  },
  {
   "cell_type": "raw",
   "metadata": {},
   "source": [
    "# empty symbols of data type \n",
    "list:[]\n",
    "tuple:()\n",
    "string:''\n",
    "set:set()\n",
    "dict: {}"
   ]
  },
  {
   "cell_type": "code",
   "execution_count": null,
   "metadata": {},
   "outputs": [],
   "source": [
    "set1 = {4,2,1,'Python',(2,4),5.2, 5.5,0, 1.0, True,False}  #true  =1 , false = 0\n",
    "print(set1, len(set1))"
   ]
  },
  {
   "cell_type": "code",
   "execution_count": null,
   "metadata": {},
   "outputs": [],
   "source": [
    "list2 =[4,2,1,'Python',(2,4),5.2, 5.5,0 , True, 1, False]\n",
    "print(list2, len(list2))"
   ]
  },
  {
   "cell_type": "markdown",
   "metadata": {},
   "source": [
    "True = 1\n",
    "False = 0"
   ]
  },
  {
   "cell_type": "code",
   "execution_count": null,
   "metadata": {},
   "outputs": [],
   "source": [
    "set1 = {4,2,'Python',(2,4),5.2, 5.5,0 , True, False}\n",
    "print(set1, len(set1))"
   ]
  },
  {
   "cell_type": "code",
   "execution_count": null,
   "metadata": {},
   "outputs": [],
   "source": [
    "set1 = {4,2,'Python',(2,4),5.2, 5.5,0 , True, False,1}\n",
    "print(set1, len(set1))"
   ]
  },
  {
   "cell_type": "markdown",
   "metadata": {},
   "source": [
    "## Set Constructor\n",
    "list2 =[4,2,1,'Python',(2,4),5.2, 5.5,0 , True, 1, False]\n",
    "print(list2, len(list2))\n",
    "# List to set\n",
    "set1 = set(list2)\n",
    "set1\n",
    "print(len(set1))"
   ]
  },
  {
   "cell_type": "code",
   "execution_count": null,
   "metadata": {},
   "outputs": [],
   "source": [
    "list1 = [1,3,4,1,5,2,57,8,8,2,3,1]\n",
    "set1 = set(list1)\n",
    "set1"
   ]
  },
  {
   "cell_type": "code",
   "execution_count": null,
   "metadata": {},
   "outputs": [],
   "source": [
    "list2 = list(set1)\n",
    "list2"
   ]
  },
  {
   "cell_type": "markdown",
   "metadata": {},
   "source": [
    "# tuple to set\n"
   ]
  },
  {
   "cell_type": "code",
   "execution_count": null,
   "metadata": {},
   "outputs": [],
   "source": [
    "tup = (1,3,5,\"data\",89)\n",
    "set1 = set(tup)\n",
    "set1"
   ]
  },
  {
   "cell_type": "markdown",
   "metadata": {},
   "source": [
    "# set to tuple"
   ]
  },
  {
   "cell_type": "code",
   "execution_count": null,
   "metadata": {},
   "outputs": [],
   "source": [
    "set2 = set(tup)\n",
    "set2"
   ]
  },
  {
   "cell_type": "markdown",
   "metadata": {},
   "source": [
    "# string to set"
   ]
  },
  {
   "cell_type": "code",
   "execution_count": null,
   "metadata": {},
   "outputs": [],
   "source": [
    "str1 = \"sarika\"\n",
    "set1 = set(str1)\n",
    "set1\n"
   ]
  },
  {
   "cell_type": "markdown",
   "metadata": {},
   "source": [
    "## Accessing set elements"
   ]
  },
  {
   "cell_type": "code",
   "execution_count": null,
   "metadata": {},
   "outputs": [],
   "source": [
    "#Accessing the set element \n",
    "set1 = {4,2,'Python',(2,4),5.2, 5.5,0 , True, False,1}"
   ]
  },
  {
   "cell_type": "code",
   "execution_count": null,
   "metadata": {},
   "outputs": [],
   "source": [
    "set1"
   ]
  },
  {
   "cell_type": "code",
   "execution_count": null,
   "metadata": {
    "scrolled": true
   },
   "outputs": [],
   "source": [
    "set1[0]   # we can not use indexing to access the element "
   ]
  },
  {
   "cell_type": "code",
   "execution_count": null,
   "metadata": {},
   "outputs": [],
   "source": [
    "set1"
   ]
  },
  {
   "cell_type": "code",
   "execution_count": null,
   "metadata": {},
   "outputs": [],
   "source": [
    "for ele in set1:\n",
    "    print(ele)"
   ]
  },
  {
   "cell_type": "markdown",
   "metadata": {},
   "source": [
    "## Set Functions"
   ]
  },
  {
   "cell_type": "markdown",
   "metadata": {},
   "source": [
    "### 1. add()"
   ]
  },
  {
   "cell_type": "raw",
   "metadata": {},
   "source": [
    "Used to add only one element in a set\n",
    "set.add(element)"
   ]
  },
  {
   "cell_type": "code",
   "execution_count": 1,
   "metadata": {},
   "outputs": [
    {
     "name": "stdout",
     "output_type": "stream",
     "text": [
      "{1, 2, 3, 4, 5, 6} \n",
      " 1967506351136\n"
     ]
    }
   ],
   "source": [
    "set1 = {1,5,2,4,3,6}\n",
    "print(set1,'\\n', id(set1))"
   ]
  },
  {
   "cell_type": "code",
   "execution_count": 2,
   "metadata": {},
   "outputs": [
    {
     "name": "stdout",
     "output_type": "stream",
     "text": [
      "{1, 2, 3, 4, 5, 6, 10} \n",
      " 1967506351136\n"
     ]
    }
   ],
   "source": [
    "set1.add(10)\n",
    "print(set1,'\\n', id(set1))"
   ]
  },
  {
   "cell_type": "code",
   "execution_count": 5,
   "metadata": {},
   "outputs": [
    {
     "name": "stdout",
     "output_type": "stream",
     "text": [
      "{'bio', 'math', 'phy'} \n",
      " 1967506352480\n"
     ]
    }
   ],
   "source": [
    "sub = {'math','phy','bio'}\n",
    "print(sub,\"\\n\",id(sub))"
   ]
  },
  {
   "cell_type": "code",
   "execution_count": 6,
   "metadata": {},
   "outputs": [
    {
     "name": "stdout",
     "output_type": "stream",
     "text": [
      "{'chem', 'bio', 'math', 'phy'} \n",
      " 1967506352480\n"
     ]
    }
   ],
   "source": [
    "sub.add('chem')\n",
    "print(sub,\"\\n\",id(sub))"
   ]
  },
  {
   "cell_type": "markdown",
   "metadata": {},
   "source": [
    "## 2. update()"
   ]
  },
  {
   "cell_type": "raw",
   "metadata": {},
   "source": [
    "used to add the another set."
   ]
  },
  {
   "cell_type": "code",
   "execution_count": 7,
   "metadata": {},
   "outputs": [],
   "source": [
    "sub = {'math','phy','bio'}\n",
    "sub1 = {'chem', 'phy'}"
   ]
  },
  {
   "cell_type": "code",
   "execution_count": 8,
   "metadata": {
    "scrolled": true
   },
   "outputs": [
    {
     "name": "stdout",
     "output_type": "stream",
     "text": [
      "{'chem', 'bio', 'math', 'phy'}\n",
      "{'phy', 'chem'}\n"
     ]
    }
   ],
   "source": [
    "sub.update(sub1)\n",
    "print(sub)\n",
    "print(sub1)"
   ]
  },
  {
   "cell_type": "code",
   "execution_count": 10,
   "metadata": {},
   "outputs": [],
   "source": [
    "set1 = {1,4,5}\n",
    "set2 = {2,0,8}"
   ]
  },
  {
   "cell_type": "code",
   "execution_count": 11,
   "metadata": {},
   "outputs": [
    {
     "name": "stdout",
     "output_type": "stream",
     "text": [
      "{1, 4, 5}\n",
      "{0, 1, 2, 4, 5, 8}\n"
     ]
    }
   ],
   "source": [
    "set2.update(set1)\n",
    "print(set1)\n",
    "print(set2)"
   ]
  },
  {
   "cell_type": "markdown",
   "metadata": {},
   "source": [
    "## 3. union()"
   ]
  },
  {
   "cell_type": "markdown",
   "metadata": {},
   "source": [
    "It add the elements of both the sets. and we need a third variable here."
   ]
  },
  {
   "cell_type": "code",
   "execution_count": 14,
   "metadata": {},
   "outputs": [],
   "source": [
    "set1 = {1,4,5}\n",
    "set2 = {2,0,8}"
   ]
  },
  {
   "cell_type": "code",
   "execution_count": 15,
   "metadata": {},
   "outputs": [
    {
     "name": "stdout",
     "output_type": "stream",
     "text": [
      "{0, 1, 2, 4, 5, 8}\n",
      "{1, 4, 5}\n",
      "{0, 8, 2}\n"
     ]
    }
   ],
   "source": [
    "set3 = set1.union(set2)\n",
    "print(set3)\n",
    "print(set1)\n",
    "print(set2)"
   ]
  },
  {
   "cell_type": "markdown",
   "metadata": {},
   "source": [
    "## Delete"
   ]
  },
  {
   "cell_type": "markdown",
   "metadata": {},
   "source": [
    "### 1. remove()"
   ]
  },
  {
   "cell_type": "raw",
   "metadata": {},
   "source": [
    "set.remove(element)\n",
    "used to remove a perticular element from the set."
   ]
  },
  {
   "cell_type": "code",
   "execution_count": 16,
   "metadata": {},
   "outputs": [
    {
     "data": {
      "text/plain": [
       "{0, 1, 2, 4, 5, 8}"
      ]
     },
     "execution_count": 16,
     "metadata": {},
     "output_type": "execute_result"
    }
   ],
   "source": [
    "set3"
   ]
  },
  {
   "cell_type": "code",
   "execution_count": 17,
   "metadata": {},
   "outputs": [
    {
     "data": {
      "text/plain": [
       "{1, 2, 4, 5, 8}"
      ]
     },
     "execution_count": 17,
     "metadata": {},
     "output_type": "execute_result"
    }
   ],
   "source": [
    "set3.remove(0)\n",
    "set3"
   ]
  },
  {
   "cell_type": "code",
   "execution_count": 18,
   "metadata": {},
   "outputs": [
    {
     "ename": "KeyError",
     "evalue": "7",
     "output_type": "error",
     "traceback": [
      "\u001b[1;31m---------------------------------------------------------------------------\u001b[0m",
      "\u001b[1;31mKeyError\u001b[0m                                  Traceback (most recent call last)",
      "Cell \u001b[1;32mIn[18], line 1\u001b[0m\n\u001b[1;32m----> 1\u001b[0m set3\u001b[38;5;241m.\u001b[39mremove(\u001b[38;5;241m7\u001b[39m)\n\u001b[0;32m      2\u001b[0m set3\n",
      "\u001b[1;31mKeyError\u001b[0m: 7"
     ]
    }
   ],
   "source": [
    "set3.remove(7)\n",
    "set3"
   ]
  },
  {
   "cell_type": "markdown",
   "metadata": {},
   "source": [
    "## 2. discard()"
   ]
  },
  {
   "cell_type": "raw",
   "metadata": {},
   "source": [
    "used to remove a perticular element from the set. If the element is not in set, it will not through any error.\n",
    "set.discard()"
   ]
  },
  {
   "cell_type": "code",
   "execution_count": 19,
   "metadata": {},
   "outputs": [
    {
     "data": {
      "text/plain": [
       "{0, 1, 2, 4, 8}"
      ]
     },
     "execution_count": 19,
     "metadata": {},
     "output_type": "execute_result"
    }
   ],
   "source": [
    "set3= {0, 1, 2, 4, 5, 8}\n",
    "set3.discard(5)\n",
    "set3"
   ]
  },
  {
   "cell_type": "code",
   "execution_count": 20,
   "metadata": {},
   "outputs": [
    {
     "data": {
      "text/plain": [
       "{0, 1, 2, 4, 8}"
      ]
     },
     "execution_count": 20,
     "metadata": {},
     "output_type": "execute_result"
    }
   ],
   "source": [
    "set3.discard(7)\n",
    "set3"
   ]
  },
  {
   "cell_type": "markdown",
   "metadata": {},
   "source": [
    "## 3. pop()"
   ]
  },
  {
   "cell_type": "raw",
   "metadata": {},
   "source": [
    "It will remove any random element\n",
    "set.pop()"
   ]
  },
  {
   "cell_type": "code",
   "execution_count": 21,
   "metadata": {},
   "outputs": [
    {
     "data": {
      "text/plain": [
       "{0, 1, 2, 4, 8}"
      ]
     },
     "execution_count": 21,
     "metadata": {},
     "output_type": "execute_result"
    }
   ],
   "source": [
    "set3"
   ]
  },
  {
   "cell_type": "code",
   "execution_count": 22,
   "metadata": {},
   "outputs": [
    {
     "data": {
      "text/plain": [
       "{1, 2, 4, 8}"
      ]
     },
     "execution_count": 22,
     "metadata": {},
     "output_type": "execute_result"
    }
   ],
   "source": [
    "set3.pop()\n",
    "set3"
   ]
  },
  {
   "cell_type": "code",
   "execution_count": 25,
   "metadata": {},
   "outputs": [
    {
     "data": {
      "text/plain": [
       "{4, 8}"
      ]
     },
     "execution_count": 25,
     "metadata": {},
     "output_type": "execute_result"
    }
   ],
   "source": [
    "set3.pop()\n",
    "set3"
   ]
  },
  {
   "cell_type": "code",
   "execution_count": 26,
   "metadata": {},
   "outputs": [
    {
     "data": {
      "text/plain": [
       "{4, 5, 6}"
      ]
     },
     "execution_count": 26,
     "metadata": {},
     "output_type": "execute_result"
    }
   ],
   "source": [
    "set3 = {2,4,5,6}\n",
    "set3.pop()\n",
    "set3"
   ]
  },
  {
   "cell_type": "markdown",
   "metadata": {},
   "source": [
    "## 4. clear()"
   ]
  },
  {
   "cell_type": "raw",
   "metadata": {},
   "source": [
    "Used to remove all the elements inside set.\n",
    "It simply gives us an empty set.\n",
    "set.clear()"
   ]
  },
  {
   "cell_type": "code",
   "execution_count": 27,
   "metadata": {},
   "outputs": [
    {
     "data": {
      "text/plain": [
       "set()"
      ]
     },
     "execution_count": 27,
     "metadata": {},
     "output_type": "execute_result"
    }
   ],
   "source": [
    "set3 = {2,4,5,6}\n",
    "set3.clear()\n",
    "set3"
   ]
  },
  {
   "cell_type": "markdown",
   "metadata": {},
   "source": [
    "## 5. del"
   ]
  },
  {
   "cell_type": "raw",
   "metadata": {},
   "source": [
    "It delete the set.\n",
    "del set3"
   ]
  },
  {
   "cell_type": "code",
   "execution_count": 28,
   "metadata": {},
   "outputs": [
    {
     "ename": "NameError",
     "evalue": "name 'set3' is not defined",
     "output_type": "error",
     "traceback": [
      "\u001b[1;31m---------------------------------------------------------------------------\u001b[0m",
      "\u001b[1;31mNameError\u001b[0m                                 Traceback (most recent call last)",
      "Cell \u001b[1;32mIn[28], line 3\u001b[0m\n\u001b[0;32m      1\u001b[0m set3 \u001b[38;5;241m=\u001b[39m {\u001b[38;5;241m2\u001b[39m,\u001b[38;5;241m4\u001b[39m,\u001b[38;5;241m5\u001b[39m,\u001b[38;5;241m6\u001b[39m}\n\u001b[0;32m      2\u001b[0m \u001b[38;5;28;01mdel\u001b[39;00m set3\n\u001b[1;32m----> 3\u001b[0m set3\n",
      "\u001b[1;31mNameError\u001b[0m: name 'set3' is not defined"
     ]
    }
   ],
   "source": [
    "set3 = {2,4,5,6}\n",
    "del set3\n",
    "set3"
   ]
  },
  {
   "cell_type": "markdown",
   "metadata": {},
   "source": [
    "1. add()     =add the element =set1.add(8)\n",
    "2. update()   =sub1.update(sub2)  =   set1.update(ele)\n",
    "3. union()    =add the elemet of two set by taking the third varianle    set3 = set1.union(set2)\n",
    "4. remove()   =single elemt remove        set1.remove(ele)\n",
    "5. discard()  =if element is not in the set still it don't show any error     set1.discard(ele)\n",
    "6. pop()    =it can remove any random elemnt                  set1.pop() \n",
    "7. clear()  = it claer all the elemnts and give us empty set  set1.clear() \n",
    "8. del        =it delete all the set             del set1 \n"
   ]
  },
  {
   "cell_type": "code",
   "execution_count": null,
   "metadata": {},
   "outputs": [],
   "source": []
  },
  {
   "cell_type": "code",
   "execution_count": null,
   "metadata": {},
   "outputs": [],
   "source": []
  }
 ],
 "metadata": {
  "kernelspec": {
   "display_name": "Python 3 (ipykernel)",
   "language": "python",
   "name": "python3"
  },
  "language_info": {
   "codemirror_mode": {
    "name": "ipython",
    "version": 3
   },
   "file_extension": ".py",
   "mimetype": "text/x-python",
   "name": "python",
   "nbconvert_exporter": "python",
   "pygments_lexer": "ipython3",
   "version": "3.11.5"
  }
 },
 "nbformat": 4,
 "nbformat_minor": 4
}
